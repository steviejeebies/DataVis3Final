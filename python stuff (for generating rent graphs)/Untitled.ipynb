{
 "cells": [
  {
   "cell_type": "code",
   "execution_count": 381,
   "id": "d6d59657-e61e-4cc5-a2e1-7964a5d4dd36",
   "metadata": {},
   "outputs": [],
   "source": [
    "import pandas as pd\n",
    "import numpy as np\n",
    "import plotly.express as px\n",
    "import plotly.io as pio\n",
    "from PIL import Image"
   ]
  },
  {
   "cell_type": "code",
   "execution_count": 144,
   "id": "c33c7f41",
   "metadata": {},
   "outputs": [
    {
     "name": "stdout",
     "output_type": "stream",
     "text": [
      "['Donegal', 'Leitrim', 'Sligo', 'Dublin', 'Kildare', 'Meath', 'Wicklow', 'Laois', 'Longford', 'Offaly', 'Westmeath', 'Clare', 'Limerick', 'Tipperary', 'Cavan', 'Louth', 'Monaghan', 'Carlow', 'Kilkenny', 'Waterford', 'Wexford', 'Cork', 'Kerry', 'Galway', 'Mayo', 'Roscommon']\n"
     ]
    }
   ],
   "source": [
    "data_rent = pd.read_csv('cso_rtb_avg_month_rent.csv')\n",
    "counties = {'Donegal', 'Leitrim', 'Sligo', 'Dublin', 'Kildare', 'Meath', 'Wicklow', 'Laois', 'Longford', 'Offaly', 'Westmeath', 'Clare', 'Limerick', 'Tipperary', 'Cavan', 'Louth', 'Monaghan', 'Carlow', 'Kilkenny', 'Waterford', 'Wexford', 'Cork', 'Kerry', 'Galway', 'Mayo', 'Roscommon'}"
   ]
  },
  {
   "cell_type": "code",
   "execution_count": 267,
   "id": "6e3395ee",
   "metadata": {},
   "outputs": [],
   "source": [
    "# Source https://community.plotly.com/t/group-each-graph-dimension-in-the-legend-of-plotly/58118\n",
    "def add_grouped_legend(fig, data_frame, x, graph_dimensions):\n",
    "\t\"\"\"Create a grouped legend based on the example here https://stackoverflow.com/a/69829305/8849755\n",
    "\t- fig: The figure in which to add such grouped legend.\n",
    "\t- data_frame: The data frame from which to create the legend, in principle it should be the same that was plotted in `fig`.\n",
    "\t- graph_dimensions: A dictionary with the arguments such as `color`, `symbol`, `line_dash` passed to plotly.express functions you want to group, with the names of the columns in the data_frame.\"\"\"\n",
    "\tparam_list = [{'px': {dimension: dimension_value}, 'lg': {'legendgrouptitle_text': dimension_value}} for dimension, dimension_value in graph_dimensions.items()]\n",
    "\tlegend_traces = []\n",
    "\tfor param in param_list:\n",
    "\t\tthis_dimension_trace = px.line(\n",
    "\t\t\tdata_frame,\n",
    "\t\t\tx = x,\n",
    "\t\t\ty = [float('NaN') for i in range(len(data_frame))],\n",
    "\t\t\t**param[\"px\"],\n",
    "\t\t).update_traces(\n",
    "\t\t\t# **param[\"lg\"],\n",
    "\t\t\t# legendgroup = str(param[\"px\"]),\n",
    "\t\t)\n",
    "\t\tif 'color' not in param['px']:\n",
    "\t\t\tthis_dimension_trace.update_traces(\n",
    "\t\t\t\tmarker = {'color': '#000000'},\n",
    "\t\t\t\tline = {'color': '#000000'},\n",
    "\t\t\t)\n",
    "\t\tlegend_traces.append(this_dimension_trace)\n",
    "\tfor t in legend_traces:\n",
    "\t\tfig.add_traces(t.data)"
   ]
  },
  {
   "cell_type": "code",
   "execution_count": 21,
   "id": "5ef2e9b2",
   "metadata": {},
   "outputs": [
    {
     "data": {
      "application/vnd.plotly.v1+json": {
       "config": {
        "plotlyServerURL": "https://plot.ly"
       },
       "data": [
        {
         "hovertemplate": "Property Type=All property types<br>Location=Dublin<br>Quarter=%{x}<br>VALUE=%{y}<extra></extra>",
         "legendgroup": "All property types, Dublin",
         "line": {
          "color": "rgb(229, 134, 6)"
         },
         "marker": {
          "symbol": "circle"
         },
         "mode": "lines",
         "name": "All property types, Dublin",
         "orientation": "v",
         "showlegend": true,
         "type": "scatter",
         "x": [
          "2019Q1",
          "2019Q2",
          "2019Q3",
          "2019Q4",
          "2020Q1",
          "2020Q2",
          "2020Q3",
          "2020Q4",
          "2021Q1",
          "2021Q2",
          "2021Q3",
          "2021Q4",
          "2022Q1",
          "2022Q2"
         ],
         "xaxis": "x",
         "y": [
          1651.35,
          1676.24,
          1710.38,
          1712.44,
          1729.79,
          1732.33,
          1757.08,
          1745.17,
          1752.11,
          1761.02,
          1790.85,
          1793.33,
          1830.31,
          1863.1
         ],
         "yaxis": "y"
        },
        {
         "hovertemplate": "Property Type=All property types<br>Location=Wexford<br>Quarter=%{x}<br>VALUE=%{y}<extra></extra>",
         "legendgroup": "All property types, Wexford",
         "line": {
          "color": "rgb(229, 134, 6)",
          "dash": "dash"
         },
         "marker": {
          "symbol": "circle"
         },
         "mode": "lines",
         "name": "All property types, Wexford",
         "orientation": "v",
         "showlegend": true,
         "type": "scatter",
         "x": [
          "2019Q1",
          "2019Q2",
          "2019Q3",
          "2019Q4",
          "2020Q1",
          "2020Q2",
          "2020Q3",
          "2020Q4",
          "2021Q1",
          "2021Q2",
          "2021Q3",
          "2021Q4",
          "2022Q1",
          "2022Q2"
         ],
         "xaxis": "x",
         "y": [
          746.53,
          751.87,
          761.2,
          766.15,
          769.74,
          775.98,
          785.68,
          786.7,
          789.77,
          799.93,
          817.16,
          830.91,
          861.39,
          887.06
         ],
         "yaxis": "y"
        },
        {
         "hovertemplate": "Property Type=Detached house<br>Location=Dublin<br>Quarter=%{x}<br>VALUE=%{y}<extra></extra>",
         "legendgroup": "Detached house, Dublin",
         "line": {
          "color": "rgb(93, 105, 177)"
         },
         "marker": {
          "symbol": "circle"
         },
         "mode": "lines",
         "name": "Detached house, Dublin",
         "orientation": "v",
         "showlegend": true,
         "type": "scatter",
         "x": [
          "2019Q1",
          "2019Q2",
          "2019Q3",
          "2019Q4",
          "2020Q1",
          "2020Q2",
          "2020Q3",
          "2020Q4",
          "2021Q1",
          "2021Q2",
          "2021Q3",
          "2021Q4",
          "2022Q1",
          "2022Q2"
         ],
         "xaxis": "x",
         "y": [
          2272.62,
          2301.75,
          2387.8,
          2372.25,
          2422.76,
          2434.1,
          2529.21,
          2444.75,
          2448.39,
          2480.27,
          2560.86,
          2542.93,
          2609.88,
          2635.18
         ],
         "yaxis": "y"
        },
        {
         "hovertemplate": "Property Type=Detached house<br>Location=Wexford<br>Quarter=%{x}<br>VALUE=%{y}<extra></extra>",
         "legendgroup": "Detached house, Wexford",
         "line": {
          "color": "rgb(93, 105, 177)",
          "dash": "dash"
         },
         "marker": {
          "symbol": "circle"
         },
         "mode": "lines",
         "name": "Detached house, Wexford",
         "orientation": "v",
         "showlegend": true,
         "type": "scatter",
         "x": [
          "2019Q1",
          "2019Q2",
          "2019Q3",
          "2019Q4",
          "2020Q1",
          "2020Q2",
          "2020Q3",
          "2020Q4",
          "2021Q1",
          "2021Q2",
          "2021Q3",
          "2021Q4",
          "2022Q1",
          "2022Q2"
         ],
         "xaxis": "x",
         "y": [
          814.38,
          826.04,
          829.16,
          836.76,
          847.47,
          848.36,
          860.38,
          853.88,
          858.91,
          861.28,
          878.66,
          905.1,
          950.92,
          979.77
         ],
         "yaxis": "y"
        },
        {
         "hovertemplate": "Property Type=Semi detached house<br>Location=Dublin<br>Quarter=%{x}<br>VALUE=%{y}<extra></extra>",
         "legendgroup": "Semi detached house, Dublin",
         "line": {
          "color": "rgb(82, 188, 163)"
         },
         "marker": {
          "symbol": "circle"
         },
         "mode": "lines",
         "name": "Semi detached house, Dublin",
         "orientation": "v",
         "showlegend": true,
         "type": "scatter",
         "x": [
          "2019Q1",
          "2019Q2",
          "2019Q3",
          "2019Q4",
          "2020Q1",
          "2020Q2",
          "2020Q3",
          "2020Q4",
          "2021Q1",
          "2021Q2",
          "2021Q3",
          "2021Q4",
          "2022Q1",
          "2022Q2"
         ],
         "xaxis": "x",
         "y": [
          1856.22,
          1887.34,
          1934.71,
          1937.34,
          1954.92,
          1956.22,
          2002.95,
          2003.03,
          2027.74,
          2042.21,
          2087.39,
          2070.14,
          2111.51,
          2136.49
         ],
         "yaxis": "y"
        },
        {
         "hovertemplate": "Property Type=Semi detached house<br>Location=Wexford<br>Quarter=%{x}<br>VALUE=%{y}<extra></extra>",
         "legendgroup": "Semi detached house, Wexford",
         "line": {
          "color": "rgb(82, 188, 163)",
          "dash": "dash"
         },
         "marker": {
          "symbol": "circle"
         },
         "mode": "lines",
         "name": "Semi detached house, Wexford",
         "orientation": "v",
         "showlegend": true,
         "type": "scatter",
         "x": [
          "2019Q1",
          "2019Q2",
          "2019Q3",
          "2019Q4",
          "2020Q1",
          "2020Q2",
          "2020Q3",
          "2020Q4",
          "2021Q1",
          "2021Q2",
          "2021Q3",
          "2021Q4",
          "2022Q1",
          "2022Q2"
         ],
         "xaxis": "x",
         "y": [
          783.83,
          791.77,
          800.61,
          809.82,
          808.63,
          815.46,
          826.82,
          827.42,
          828.51,
          845.22,
          864.88,
          869.43,
          900.2,
          933.75
         ],
         "yaxis": "y"
        },
        {
         "hovertemplate": "Property Type=Terrace house<br>Location=Dublin<br>Quarter=%{x}<br>VALUE=%{y}<extra></extra>",
         "legendgroup": "Terrace house, Dublin",
         "line": {
          "color": "rgb(153, 201, 69)"
         },
         "marker": {
          "symbol": "circle"
         },
         "mode": "lines",
         "name": "Terrace house, Dublin",
         "orientation": "v",
         "showlegend": true,
         "type": "scatter",
         "x": [
          "2019Q1",
          "2019Q2",
          "2019Q3",
          "2019Q4",
          "2020Q1",
          "2020Q2",
          "2020Q3",
          "2020Q4",
          "2021Q1",
          "2021Q2",
          "2021Q3",
          "2021Q4",
          "2022Q1",
          "2022Q2"
         ],
         "xaxis": "x",
         "y": [
          1782.22,
          1809.86,
          1856.83,
          1849.9,
          1867.18,
          1877.76,
          1921.13,
          1910.05,
          1922.85,
          1936.71,
          1977.43,
          1967.37,
          2016.67,
          2059.62
         ],
         "yaxis": "y"
        },
        {
         "hovertemplate": "Property Type=Terrace house<br>Location=Wexford<br>Quarter=%{x}<br>VALUE=%{y}<extra></extra>",
         "legendgroup": "Terrace house, Wexford",
         "line": {
          "color": "rgb(153, 201, 69)",
          "dash": "dash"
         },
         "marker": {
          "symbol": "circle"
         },
         "mode": "lines",
         "name": "Terrace house, Wexford",
         "orientation": "v",
         "showlegend": true,
         "type": "scatter",
         "x": [
          "2019Q1",
          "2019Q2",
          "2019Q3",
          "2019Q4",
          "2020Q1",
          "2020Q2",
          "2020Q3",
          "2020Q4",
          "2021Q1",
          "2021Q2",
          "2021Q3",
          "2021Q4",
          "2022Q1",
          "2022Q2"
         ],
         "xaxis": "x",
         "y": [
          731.51,
          738.88,
          756.38,
          751.46,
          761.11,
          762.09,
          766.22,
          769.22,
          771.35,
          785.08,
          802.66,
          821.69,
          854.84,
          884.06
         ],
         "yaxis": "y"
        },
        {
         "hovertemplate": "Property Type=Apartment<br>Location=Dublin<br>Quarter=%{x}<br>VALUE=%{y}<extra></extra>",
         "legendgroup": "Apartment, Dublin",
         "line": {
          "color": "rgb(204, 97, 176)"
         },
         "marker": {
          "symbol": "circle"
         },
         "mode": "lines",
         "name": "Apartment, Dublin",
         "orientation": "v",
         "showlegend": true,
         "type": "scatter",
         "x": [
          "2019Q1",
          "2019Q2",
          "2019Q3",
          "2019Q4",
          "2020Q1",
          "2020Q2",
          "2020Q3",
          "2020Q4",
          "2021Q1",
          "2021Q2",
          "2021Q3",
          "2021Q4",
          "2022Q1",
          "2022Q2"
         ],
         "xaxis": "x",
         "y": [
          1645.61,
          1670.82,
          1696.17,
          1701.6,
          1720.61,
          1723.19,
          1738.59,
          1732.38,
          1740.86,
          1746.54,
          1773.86,
          1786.2,
          1821.01,
          1853.41
         ],
         "yaxis": "y"
        },
        {
         "hovertemplate": "Property Type=Apartment<br>Location=Wexford<br>Quarter=%{x}<br>VALUE=%{y}<extra></extra>",
         "legendgroup": "Apartment, Wexford",
         "line": {
          "color": "rgb(204, 97, 176)",
          "dash": "dash"
         },
         "marker": {
          "symbol": "circle"
         },
         "mode": "lines",
         "name": "Apartment, Wexford",
         "orientation": "v",
         "showlegend": true,
         "type": "scatter",
         "x": [
          "2019Q1",
          "2019Q2",
          "2019Q3",
          "2019Q4",
          "2020Q1",
          "2020Q2",
          "2020Q3",
          "2020Q4",
          "2021Q1",
          "2021Q2",
          "2021Q3",
          "2021Q4",
          "2022Q1",
          "2022Q2"
         ],
         "xaxis": "x",
         "y": [
          675.3,
          676.31,
          685.88,
          692.28,
          695.63,
          709.43,
          721.15,
          723.16,
          731.62,
          739.06,
          754.23,
          766.85,
          788.54,
          805.29
         ],
         "yaxis": "y"
        },
        {
         "hovertemplate": "Property Type=Other flats<br>Location=Dublin<br>Quarter=%{x}<br>VALUE=%{y}<extra></extra>",
         "legendgroup": "Other flats, Dublin",
         "line": {
          "color": "rgb(36, 121, 108)"
         },
         "marker": {
          "symbol": "circle"
         },
         "mode": "lines",
         "name": "Other flats, Dublin",
         "orientation": "v",
         "showlegend": true,
         "type": "scatter",
         "x": [
          "2019Q1",
          "2019Q2",
          "2019Q3",
          "2019Q4",
          "2020Q1",
          "2020Q2",
          "2020Q3",
          "2020Q4",
          "2021Q1",
          "2021Q2",
          "2021Q3",
          "2021Q4",
          "2022Q1",
          "2022Q2"
         ],
         "xaxis": "x",
         "y": [
          1081.77,
          1105.13,
          1133.34,
          1135.54,
          1154.53,
          1150.78,
          1160.79,
          1146.44,
          1153.59,
          1159.22,
          1176.86,
          1178.87,
          1203.51,
          1211.42
         ],
         "yaxis": "y"
        },
        {
         "hovertemplate": "Property Type=Other flats<br>Location=Wexford<br>Quarter=%{x}<br>VALUE=%{y}<extra></extra>",
         "legendgroup": "Other flats, Wexford",
         "line": {
          "color": "rgb(36, 121, 108)",
          "dash": "dash"
         },
         "marker": {
          "symbol": "circle"
         },
         "mode": "lines",
         "name": "Other flats, Wexford",
         "orientation": "v",
         "showlegend": true,
         "type": "scatter",
         "x": [
          "2019Q1",
          "2019Q2",
          "2019Q3",
          "2019Q4",
          "2020Q1",
          "2020Q2",
          "2020Q3",
          "2020Q4",
          "2021Q1",
          "2021Q2",
          "2021Q3",
          "2021Q4",
          "2022Q1",
          "2022Q2"
         ],
         "xaxis": "x",
         "y": [
          522.42,
          523.77,
          546.55,
          545.82,
          559.54,
          562.32,
          566.66,
          576.82,
          581.78,
          590,
          609.48,
          607.55,
          648.78,
          680.75
         ],
         "yaxis": "y"
        }
       ],
       "layout": {
        "font": {
         "size": 16
        },
        "height": 500,
        "legend": {
         "orientation": "v",
         "title": {
          "text": "Property Type, Location"
         },
         "tracegroupgap": 0
        },
        "margin": {
         "l": 0,
         "r": 0,
         "t": 50
        },
        "showlegend": true,
        "template": {
         "data": {
          "bar": [
           {
            "error_x": {
             "color": "#2a3f5f"
            },
            "error_y": {
             "color": "#2a3f5f"
            },
            "marker": {
             "line": {
              "color": "#E5ECF6",
              "width": 0.5
             },
             "pattern": {
              "fillmode": "overlay",
              "size": 10,
              "solidity": 0.2
             }
            },
            "type": "bar"
           }
          ],
          "barpolar": [
           {
            "marker": {
             "line": {
              "color": "#E5ECF6",
              "width": 0.5
             },
             "pattern": {
              "fillmode": "overlay",
              "size": 10,
              "solidity": 0.2
             }
            },
            "type": "barpolar"
           }
          ],
          "carpet": [
           {
            "aaxis": {
             "endlinecolor": "#2a3f5f",
             "gridcolor": "white",
             "linecolor": "white",
             "minorgridcolor": "white",
             "startlinecolor": "#2a3f5f"
            },
            "baxis": {
             "endlinecolor": "#2a3f5f",
             "gridcolor": "white",
             "linecolor": "white",
             "minorgridcolor": "white",
             "startlinecolor": "#2a3f5f"
            },
            "type": "carpet"
           }
          ],
          "choropleth": [
           {
            "colorbar": {
             "outlinewidth": 0,
             "ticks": ""
            },
            "type": "choropleth"
           }
          ],
          "contour": [
           {
            "colorbar": {
             "outlinewidth": 0,
             "ticks": ""
            },
            "colorscale": [
             [
              0,
              "#0d0887"
             ],
             [
              0.1111111111111111,
              "#46039f"
             ],
             [
              0.2222222222222222,
              "#7201a8"
             ],
             [
              0.3333333333333333,
              "#9c179e"
             ],
             [
              0.4444444444444444,
              "#bd3786"
             ],
             [
              0.5555555555555556,
              "#d8576b"
             ],
             [
              0.6666666666666666,
              "#ed7953"
             ],
             [
              0.7777777777777778,
              "#fb9f3a"
             ],
             [
              0.8888888888888888,
              "#fdca26"
             ],
             [
              1,
              "#f0f921"
             ]
            ],
            "type": "contour"
           }
          ],
          "contourcarpet": [
           {
            "colorbar": {
             "outlinewidth": 0,
             "ticks": ""
            },
            "type": "contourcarpet"
           }
          ],
          "heatmap": [
           {
            "colorbar": {
             "outlinewidth": 0,
             "ticks": ""
            },
            "colorscale": [
             [
              0,
              "#0d0887"
             ],
             [
              0.1111111111111111,
              "#46039f"
             ],
             [
              0.2222222222222222,
              "#7201a8"
             ],
             [
              0.3333333333333333,
              "#9c179e"
             ],
             [
              0.4444444444444444,
              "#bd3786"
             ],
             [
              0.5555555555555556,
              "#d8576b"
             ],
             [
              0.6666666666666666,
              "#ed7953"
             ],
             [
              0.7777777777777778,
              "#fb9f3a"
             ],
             [
              0.8888888888888888,
              "#fdca26"
             ],
             [
              1,
              "#f0f921"
             ]
            ],
            "type": "heatmap"
           }
          ],
          "heatmapgl": [
           {
            "colorbar": {
             "outlinewidth": 0,
             "ticks": ""
            },
            "colorscale": [
             [
              0,
              "#0d0887"
             ],
             [
              0.1111111111111111,
              "#46039f"
             ],
             [
              0.2222222222222222,
              "#7201a8"
             ],
             [
              0.3333333333333333,
              "#9c179e"
             ],
             [
              0.4444444444444444,
              "#bd3786"
             ],
             [
              0.5555555555555556,
              "#d8576b"
             ],
             [
              0.6666666666666666,
              "#ed7953"
             ],
             [
              0.7777777777777778,
              "#fb9f3a"
             ],
             [
              0.8888888888888888,
              "#fdca26"
             ],
             [
              1,
              "#f0f921"
             ]
            ],
            "type": "heatmapgl"
           }
          ],
          "histogram": [
           {
            "marker": {
             "pattern": {
              "fillmode": "overlay",
              "size": 10,
              "solidity": 0.2
             }
            },
            "type": "histogram"
           }
          ],
          "histogram2d": [
           {
            "colorbar": {
             "outlinewidth": 0,
             "ticks": ""
            },
            "colorscale": [
             [
              0,
              "#0d0887"
             ],
             [
              0.1111111111111111,
              "#46039f"
             ],
             [
              0.2222222222222222,
              "#7201a8"
             ],
             [
              0.3333333333333333,
              "#9c179e"
             ],
             [
              0.4444444444444444,
              "#bd3786"
             ],
             [
              0.5555555555555556,
              "#d8576b"
             ],
             [
              0.6666666666666666,
              "#ed7953"
             ],
             [
              0.7777777777777778,
              "#fb9f3a"
             ],
             [
              0.8888888888888888,
              "#fdca26"
             ],
             [
              1,
              "#f0f921"
             ]
            ],
            "type": "histogram2d"
           }
          ],
          "histogram2dcontour": [
           {
            "colorbar": {
             "outlinewidth": 0,
             "ticks": ""
            },
            "colorscale": [
             [
              0,
              "#0d0887"
             ],
             [
              0.1111111111111111,
              "#46039f"
             ],
             [
              0.2222222222222222,
              "#7201a8"
             ],
             [
              0.3333333333333333,
              "#9c179e"
             ],
             [
              0.4444444444444444,
              "#bd3786"
             ],
             [
              0.5555555555555556,
              "#d8576b"
             ],
             [
              0.6666666666666666,
              "#ed7953"
             ],
             [
              0.7777777777777778,
              "#fb9f3a"
             ],
             [
              0.8888888888888888,
              "#fdca26"
             ],
             [
              1,
              "#f0f921"
             ]
            ],
            "type": "histogram2dcontour"
           }
          ],
          "mesh3d": [
           {
            "colorbar": {
             "outlinewidth": 0,
             "ticks": ""
            },
            "type": "mesh3d"
           }
          ],
          "parcoords": [
           {
            "line": {
             "colorbar": {
              "outlinewidth": 0,
              "ticks": ""
             }
            },
            "type": "parcoords"
           }
          ],
          "pie": [
           {
            "automargin": true,
            "type": "pie"
           }
          ],
          "scatter": [
           {
            "fillpattern": {
             "fillmode": "overlay",
             "size": 10,
             "solidity": 0.2
            },
            "type": "scatter"
           }
          ],
          "scatter3d": [
           {
            "line": {
             "colorbar": {
              "outlinewidth": 0,
              "ticks": ""
             }
            },
            "marker": {
             "colorbar": {
              "outlinewidth": 0,
              "ticks": ""
             }
            },
            "type": "scatter3d"
           }
          ],
          "scattercarpet": [
           {
            "marker": {
             "colorbar": {
              "outlinewidth": 0,
              "ticks": ""
             }
            },
            "type": "scattercarpet"
           }
          ],
          "scattergeo": [
           {
            "marker": {
             "colorbar": {
              "outlinewidth": 0,
              "ticks": ""
             }
            },
            "type": "scattergeo"
           }
          ],
          "scattergl": [
           {
            "marker": {
             "colorbar": {
              "outlinewidth": 0,
              "ticks": ""
             }
            },
            "type": "scattergl"
           }
          ],
          "scattermapbox": [
           {
            "marker": {
             "colorbar": {
              "outlinewidth": 0,
              "ticks": ""
             }
            },
            "type": "scattermapbox"
           }
          ],
          "scatterpolar": [
           {
            "marker": {
             "colorbar": {
              "outlinewidth": 0,
              "ticks": ""
             }
            },
            "type": "scatterpolar"
           }
          ],
          "scatterpolargl": [
           {
            "marker": {
             "colorbar": {
              "outlinewidth": 0,
              "ticks": ""
             }
            },
            "type": "scatterpolargl"
           }
          ],
          "scatterternary": [
           {
            "marker": {
             "colorbar": {
              "outlinewidth": 0,
              "ticks": ""
             }
            },
            "type": "scatterternary"
           }
          ],
          "surface": [
           {
            "colorbar": {
             "outlinewidth": 0,
             "ticks": ""
            },
            "colorscale": [
             [
              0,
              "#0d0887"
             ],
             [
              0.1111111111111111,
              "#46039f"
             ],
             [
              0.2222222222222222,
              "#7201a8"
             ],
             [
              0.3333333333333333,
              "#9c179e"
             ],
             [
              0.4444444444444444,
              "#bd3786"
             ],
             [
              0.5555555555555556,
              "#d8576b"
             ],
             [
              0.6666666666666666,
              "#ed7953"
             ],
             [
              0.7777777777777778,
              "#fb9f3a"
             ],
             [
              0.8888888888888888,
              "#fdca26"
             ],
             [
              1,
              "#f0f921"
             ]
            ],
            "type": "surface"
           }
          ],
          "table": [
           {
            "cells": {
             "fill": {
              "color": "#EBF0F8"
             },
             "line": {
              "color": "white"
             }
            },
            "header": {
             "fill": {
              "color": "#C8D4E3"
             },
             "line": {
              "color": "white"
             }
            },
            "type": "table"
           }
          ]
         },
         "layout": {
          "annotationdefaults": {
           "arrowcolor": "#2a3f5f",
           "arrowhead": 0,
           "arrowwidth": 1
          },
          "autotypenumbers": "strict",
          "coloraxis": {
           "colorbar": {
            "outlinewidth": 0,
            "ticks": ""
           }
          },
          "colorscale": {
           "diverging": [
            [
             0,
             "#8e0152"
            ],
            [
             0.1,
             "#c51b7d"
            ],
            [
             0.2,
             "#de77ae"
            ],
            [
             0.3,
             "#f1b6da"
            ],
            [
             0.4,
             "#fde0ef"
            ],
            [
             0.5,
             "#f7f7f7"
            ],
            [
             0.6,
             "#e6f5d0"
            ],
            [
             0.7,
             "#b8e186"
            ],
            [
             0.8,
             "#7fbc41"
            ],
            [
             0.9,
             "#4d9221"
            ],
            [
             1,
             "#276419"
            ]
           ],
           "sequential": [
            [
             0,
             "#0d0887"
            ],
            [
             0.1111111111111111,
             "#46039f"
            ],
            [
             0.2222222222222222,
             "#7201a8"
            ],
            [
             0.3333333333333333,
             "#9c179e"
            ],
            [
             0.4444444444444444,
             "#bd3786"
            ],
            [
             0.5555555555555556,
             "#d8576b"
            ],
            [
             0.6666666666666666,
             "#ed7953"
            ],
            [
             0.7777777777777778,
             "#fb9f3a"
            ],
            [
             0.8888888888888888,
             "#fdca26"
            ],
            [
             1,
             "#f0f921"
            ]
           ],
           "sequentialminus": [
            [
             0,
             "#0d0887"
            ],
            [
             0.1111111111111111,
             "#46039f"
            ],
            [
             0.2222222222222222,
             "#7201a8"
            ],
            [
             0.3333333333333333,
             "#9c179e"
            ],
            [
             0.4444444444444444,
             "#bd3786"
            ],
            [
             0.5555555555555556,
             "#d8576b"
            ],
            [
             0.6666666666666666,
             "#ed7953"
            ],
            [
             0.7777777777777778,
             "#fb9f3a"
            ],
            [
             0.8888888888888888,
             "#fdca26"
            ],
            [
             1,
             "#f0f921"
            ]
           ]
          },
          "colorway": [
           "#636efa",
           "#EF553B",
           "#00cc96",
           "#ab63fa",
           "#FFA15A",
           "#19d3f3",
           "#FF6692",
           "#B6E880",
           "#FF97FF",
           "#FECB52"
          ],
          "font": {
           "color": "#2a3f5f"
          },
          "geo": {
           "bgcolor": "white",
           "lakecolor": "white",
           "landcolor": "#E5ECF6",
           "showlakes": true,
           "showland": true,
           "subunitcolor": "white"
          },
          "hoverlabel": {
           "align": "left"
          },
          "hovermode": "closest",
          "mapbox": {
           "style": "light"
          },
          "paper_bgcolor": "white",
          "plot_bgcolor": "#E5ECF6",
          "polar": {
           "angularaxis": {
            "gridcolor": "white",
            "linecolor": "white",
            "ticks": ""
           },
           "bgcolor": "#E5ECF6",
           "radialaxis": {
            "gridcolor": "white",
            "linecolor": "white",
            "ticks": ""
           }
          },
          "scene": {
           "xaxis": {
            "backgroundcolor": "#E5ECF6",
            "gridcolor": "white",
            "gridwidth": 2,
            "linecolor": "white",
            "showbackground": true,
            "ticks": "",
            "zerolinecolor": "white"
           },
           "yaxis": {
            "backgroundcolor": "#E5ECF6",
            "gridcolor": "white",
            "gridwidth": 2,
            "linecolor": "white",
            "showbackground": true,
            "ticks": "",
            "zerolinecolor": "white"
           },
           "zaxis": {
            "backgroundcolor": "#E5ECF6",
            "gridcolor": "white",
            "gridwidth": 2,
            "linecolor": "white",
            "showbackground": true,
            "ticks": "",
            "zerolinecolor": "white"
           }
          },
          "shapedefaults": {
           "line": {
            "color": "#2a3f5f"
           }
          },
          "ternary": {
           "aaxis": {
            "gridcolor": "white",
            "linecolor": "white",
            "ticks": ""
           },
           "baxis": {
            "gridcolor": "white",
            "linecolor": "white",
            "ticks": ""
           },
           "bgcolor": "#E5ECF6",
           "caxis": {
            "gridcolor": "white",
            "linecolor": "white",
            "ticks": ""
           }
          },
          "title": {
           "x": 0.05
          },
          "xaxis": {
           "automargin": true,
           "gridcolor": "white",
           "linecolor": "white",
           "ticks": "",
           "title": {
            "standoff": 15
           },
           "zerolinecolor": "white",
           "zerolinewidth": 2
          },
          "yaxis": {
           "automargin": true,
           "gridcolor": "white",
           "linecolor": "white",
           "ticks": "",
           "title": {
            "standoff": 15
           },
           "zerolinecolor": "white",
           "zerolinewidth": 2
          }
         }
        },
        "title": {
         "text": "RTB Average Monthly Rent - Dublin vs Wexford"
        },
        "width": 700,
        "xaxis": {
         "anchor": "y",
         "domain": [
          0,
          1
         ],
         "tickangle": -45,
         "tickmode": "array",
         "title": {
          "text": "Year (by quarter)"
         }
        },
        "yaxis": {
         "anchor": "x",
         "domain": [
          0,
          1
         ],
         "title": {
          "text": "Monthly Rent (€)"
         }
        }
       }
      }
     },
     "metadata": {},
     "output_type": "display_data"
    }
   ],
   "source": [
    "max_rent = 2635.18\n",
    "min_rent = 419.55\n",
    "\n",
    "graph_height = 500\n",
    "graph_width = 700\n",
    "\n",
    "legend = Image.open(\"legend.png\")\n",
    "\n",
    "for county in counties:\n",
    "    df = data_rent[data_rent['Location'] == county]\n",
    "\n",
    "    fig = px.line(df, x=\"Quarter\", y=\"VALUE\", color='Property Type', title=\"RTB Average Monthly Rent (€) - {}\".format(county), width=graph_width, height=graph_height)\n",
    "\n",
    "    fig.update_layout(\n",
    "        xaxis = dict(\n",
    "            tickmode = 'array',\n",
    "            # tickvals = [2019.25, 2019.50, 2019.75, 2019.99, 2020.25, 2020.50, 2020.75, 2020.99, 2021.25, 2021.50, 2021.75, 2021.99, 2022.25, 2022.50,],\n",
    "            # ticktext = ['2019 Q1', '2019 Q2', '2019 Q3', '2019 Q4', '2020 Q1', '2020 Q2', '2020 Q3', '2020 Q4', '2021 Q1', '2021 Q2', '2021 Q3', '2021 Q4', '2022 Q1', '2022 Q2'],\n",
    "            tickangle = -45\n",
    "        ),\n",
    "        # showlegend = False,\n",
    "        margin=dict(l=0, r=0, t=50),\n",
    "        font=dict(\n",
    "            size=16,  # Set the font size here\n",
    "        ),\n",
    "        xaxis_title=\"Year (by quarter)\", yaxis_title=\"Monthly Rent (€)\",\n",
    "        legend=dict(\n",
    "            orientation=\"h\",\n",
    "            y=-0.3\n",
    "        )\n",
    "    )\n",
    "    \n",
    "    # fig.write_html('images/{}.html'.format(county), include_plotlyjs=False, full_html=False)\n",
    "    \n",
    "for countyA in { 'Dublin'}:\n",
    "    for countyB in {'Wexford'}:\n",
    "        if countyA == countyB or countyA > countyB:\n",
    "            continue\n",
    "        \n",
    "        df = data_rent[data_rent['Location'].isin({ countyA, countyB }) ]\n",
    "        \n",
    "        # print(df['Location'].unique())\n",
    "\n",
    "        fig = px.line(df, x=\"Quarter\", y=\"VALUE\", color='Property Type', line_dash='Location', line_dash_sequence=[None, 'dash'], title=\"RTB Average Monthly Rent - {} vs {}\".format(countyA, countyB), width=graph_width, height=graph_height, color_discrete_sequence=px.colors.qualitative.Vivid)\n",
    "\n",
    "        fig.update_layout(\n",
    "            xaxis = dict(\n",
    "                tickmode = 'array',\n",
    "                tickangle = -45\n",
    "            ),\n",
    "            showlegend = True,\n",
    "            margin=dict(l=0, r=0, t=50),\n",
    "            font=dict(\n",
    "                size=16,  # Set the font size here\n",
    "            ),\n",
    "            xaxis_title=\"Year (by quarter)\", yaxis_title=\"Monthly Rent (€)\",\n",
    "        )\n",
    "        \n",
    "        # for trace in fig['data']:\n",
    "        #     trace.showlegend = False\n",
    "        #     # fig.legend.title.text = ''\n",
    "            \n",
    "        # fig['layout'].legend.title.text = \"County\"\n",
    "        # add_grouped_legend(fig, df, 'Quarter', dict(line_dash = 'Location'))\n",
    "        \n",
    "        fig.update_layout(legend=dict(\n",
    "            orientation=\"v\",\n",
    "            # y=-0.65\n",
    "        ))\n",
    "        \n",
    "        # fig.add_layout_image(\n",
    "        # dict(\n",
    "        #     source=legend,\n",
    "        #     xref=\"paper\", yref=\"paper\",\n",
    "        #     x=0, y=-0.45,\n",
    "        #     sizex=1, sizey=1,\n",
    "        #     # xanchor=\"left\", yanchor=\"bottom\"\n",
    "        #     )\n",
    "        # )\n",
    "        \n",
    "        fig.show()\n",
    "        \n",
    "        # fig.write_html(\"images/compare/{}_{}.html\".format(countyA, countyB), include_plotlyjs=False, full_html=False)"
   ]
  }
 ],
 "metadata": {
  "kernelspec": {
   "display_name": "graph",
   "language": "python",
   "name": "python3"
  },
  "language_info": {
   "codemirror_mode": {
    "name": "ipython",
    "version": 3
   },
   "file_extension": ".py",
   "mimetype": "text/x-python",
   "name": "python",
   "nbconvert_exporter": "python",
   "pygments_lexer": "ipython3",
   "version": "3.10.5"
  },
  "vscode": {
   "interpreter": {
    "hash": "30fe1bfe4a84e7b10502fd5e4fb416eb0c6033410340d703f8b7a23427f698bd"
   }
  }
 },
 "nbformat": 4,
 "nbformat_minor": 5
}
